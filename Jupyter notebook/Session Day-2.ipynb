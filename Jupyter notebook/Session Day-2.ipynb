{
 "cells": [
  {
   "cell_type": "code",
   "execution_count": null,
   "id": "34ce0cd4",
   "metadata": {},
   "outputs": [],
   "source": [
    "# Body mass index\n",
    "# input weight, height\n",
    "# Ask your self height\n",
    "# Weight\n",
    "# Calculate BMI\n",
    "# print BMI (My name is ...., and my BMI is)"
   ]
  },
  {
   "cell_type": "code",
   "execution_count": null,
   "id": "2f95a140",
   "metadata": {},
   "outputs": [],
   "source": [
    "# BMI is (Weight in KG/Height in m and its square )`\n"
   ]
  },
  {
   "cell_type": "code",
   "execution_count": null,
   "id": "6fbecee1",
   "metadata": {},
   "outputs": [],
   "source": [
    "height = input(\"What is your height?  \")"
   ]
  },
  {
   "cell_type": "code",
   "execution_count": null,
   "id": "a4ae2184",
   "metadata": {},
   "outputs": [],
   "source": [
    "weight = input(\"what is your weight? \")"
   ]
  },
  {
   "cell_type": "code",
   "execution_count": null,
   "id": "56c734ad",
   "metadata": {},
   "outputs": [],
   "source": [
    "name = input(\"what is your name? \")"
   ]
  }
 ],
 "metadata": {
  "kernelspec": {
   "display_name": "Python 3 (ipykernel)",
   "language": "python",
   "name": "python3"
  },
  "language_info": {
   "codemirror_mode": {
    "name": "ipython",
    "version": 3
   },
   "file_extension": ".py",
   "mimetype": "text/x-python",
   "name": "python",
   "nbconvert_exporter": "python",
   "pygments_lexer": "ipython3",
   "version": "3.9.13"
  }
 },
 "nbformat": 4,
 "nbformat_minor": 5
}
