{
 "cells": [
  {
   "cell_type": "code",
   "execution_count": null,
   "id": "85977e8d",
   "metadata": {},
   "outputs": [],
   "source": [
    "# Body mass index\n",
    "# input weight, height\n",
    "# Ask your self height\n",
    "# Weight\n",
    "# Calculate BMI\n",
    "# print BMI (My name is ...., and my BMI is)"
   ]
  },
  {
   "cell_type": "code",
   "execution_count": null,
   "id": "495cde91",
   "metadata": {},
   "outputs": [],
   "source": [
    "# BMI is (Weight in KG/Height in m and its square )`"
   ]
  },
  {
   "cell_type": "code",
   "execution_count": null,
   "id": "17a1a87a",
   "metadata": {},
   "outputs": [],
   "source": [
    "height = input(\"what is your height?  \")"
   ]
  },
  {
   "cell_type": "code",
   "execution_count": null,
   "id": "6c4e80fb",
   "metadata": {},
   "outputs": [],
   "source": [
    "weight = input(\"what is your weight? \")"
   ]
  },
  {
   "cell_type": "code",
   "execution_count": null,
   "id": "0b2d4149",
   "metadata": {},
   "outputs": [],
   "source": [
    "name = input(\"what is your name? \")"
   ]
  },
  {
   "cell_type": "code",
   "execution_count": null,
   "id": "40fe6bfb",
   "metadata": {},
   "outputs": [],
   "source": []
  },
  {
   "cell_type": "code",
   "execution_count": null,
   "id": "f09ae65a",
   "metadata": {},
   "outputs": [],
   "source": []
  },
  {
   "cell_type": "code",
   "execution_count": null,
   "id": "134580db",
   "metadata": {},
   "outputs": [],
   "source": []
  }
 ],
 "metadata": {
  "kernelspec": {
   "display_name": "Python 3 (ipykernel)",
   "language": "python",
   "name": "python3"
  },
  "language_info": {
   "codemirror_mode": {
    "name": "ipython",
    "version": 3
   },
   "file_extension": ".py",
   "mimetype": "text/x-python",
   "name": "python",
   "nbconvert_exporter": "python",
   "pygments_lexer": "ipython3",
   "version": "3.9.13"
  }
 },
 "nbformat": 4,
 "nbformat_minor": 5
}
