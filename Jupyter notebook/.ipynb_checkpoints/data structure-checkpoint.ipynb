{
 "cells": [
  {
   "cell_type": "markdown",
   "id": "4ae85d0b",
   "metadata": {},
   "source": [
    "# Basic data structure in python \n",
    "## 1- Tuples\n",
    "## 2- List\n",
    "## 3- Dictionaries\n",
    "## 4- Set"
   ]
  },
  {
   "cell_type": "markdown",
   "id": "f5592728",
   "metadata": {},
   "source": [
    "## 1- Tuples\n",
    "### - order collection of elements\n",
    "### - enclosed in round bracket () / paranthesis\n",
    "### - different kinds of elements can be used\n",
    "### - once elements are stored you can not change or unmuted"
   ]
  },
  {
   "cell_type": "code",
   "execution_count": 3,
   "id": "4972e34d",
   "metadata": {},
   "outputs": [
    {
     "data": {
      "text/plain": [
       "(1, 'python', True, 2.5)"
      ]
     },
     "execution_count": 3,
     "metadata": {},
     "output_type": "execute_result"
    }
   ],
   "source": [
    "tup1 = (1, \"python\", True, 2.5)\n",
    "tup1"
   ]
  },
  {
   "cell_type": "code",
   "execution_count": 4,
   "id": "238ae76c",
   "metadata": {},
   "outputs": [
    {
     "data": {
      "text/plain": [
       "tuple"
      ]
     },
     "execution_count": 4,
     "metadata": {},
     "output_type": "execute_result"
    }
   ],
   "source": [
    "# type of tuple\n",
    "type(tup1)"
   ]
  },
  {
   "cell_type": "markdown",
   "id": "963db998",
   "metadata": {},
   "source": [
    "### - Indexing in tuple"
   ]
  },
  {
   "cell_type": "code",
   "execution_count": 7,
   "id": "038c4411",
   "metadata": {},
   "outputs": [
    {
     "data": {
      "text/plain": [
       "('python', True)"
      ]
     },
     "execution_count": 7,
     "metadata": {},
     "output_type": "execute_result"
    }
   ],
   "source": [
    "tup1[1], tup1[2]"
   ]
  },
  {
   "cell_type": "code",
   "execution_count": 8,
   "id": "b1a90b29",
   "metadata": {},
   "outputs": [
    {
     "data": {
      "text/plain": [
       "4"
      ]
     },
     "execution_count": 8,
     "metadata": {},
     "output_type": "execute_result"
    }
   ],
   "source": [
    "len(tup1)"
   ]
  },
  {
   "cell_type": "code",
   "execution_count": 12,
   "id": "e774cfc4",
   "metadata": {},
   "outputs": [
    {
     "data": {
      "text/plain": [
       "(1, 'python', True, 2.5)"
      ]
     },
     "execution_count": 12,
     "metadata": {},
     "output_type": "execute_result"
    }
   ],
   "source": [
    "tup1[0:4] # last index is exclusive"
   ]
  },
  {
   "cell_type": "code",
   "execution_count": 14,
   "id": "229e7ba0",
   "metadata": {},
   "outputs": [
    {
     "data": {
      "text/plain": [
       "(2, 'baba ammar', 3.4, False)"
      ]
     },
     "execution_count": 14,
     "metadata": {},
     "output_type": "execute_result"
    }
   ],
   "source": [
    "tup2 = (2, \"baba ammar\", 3.4, False)\n",
    "tup2"
   ]
  },
  {
   "cell_type": "code",
   "execution_count": 20,
   "id": "96a19adf",
   "metadata": {},
   "outputs": [
    {
     "data": {
      "text/plain": [
       "(1, 'python', True, 2.5, 2, 'baba ammar', 3.4, False)"
      ]
     },
     "execution_count": 20,
     "metadata": {},
     "output_type": "execute_result"
    }
   ],
   "source": [
    "## concatinate (to add two or more than two tuples)\n",
    "tup1+tup2"
   ]
  },
  {
   "cell_type": "code",
   "execution_count": 17,
   "id": "3deaf41e",
   "metadata": {},
   "outputs": [
    {
     "data": {
      "text/plain": [
       "(1, 'python', True, 2.5, 1, 'python', True, 2.5, 2, 'baba ammar', 3.4, False)"
      ]
     },
     "execution_count": 17,
     "metadata": {},
     "output_type": "execute_result"
    }
   ],
   "source": [
    "tup1*2+tup2"
   ]
  },
  {
   "cell_type": "code",
   "execution_count": 18,
   "id": "07a76673",
   "metadata": {},
   "outputs": [
    {
     "data": {
      "text/plain": [
       "(20, 30, 40, 50)"
      ]
     },
     "execution_count": 18,
     "metadata": {},
     "output_type": "execute_result"
    }
   ],
   "source": [
    "tup3 = (20, 30, 40, 50)\n",
    "tup3"
   ]
  },
  {
   "cell_type": "code",
   "execution_count": 19,
   "id": "2bdda1ba",
   "metadata": {},
   "outputs": [
    {
     "data": {
      "text/plain": [
       "(20, 50)"
      ]
     },
     "execution_count": 19,
     "metadata": {},
     "output_type": "execute_result"
    }
   ],
   "source": [
    "# min and max\n",
    "min(tup3), max(tup3)"
   ]
  },
  {
   "cell_type": "markdown",
   "id": "57a544d2",
   "metadata": {},
   "source": [
    "## 2 - List\n",
    "- ordered collection of elements\n",
    "- enclosed in [] square braces/bracket\n",
    "- Mutateable, you can change the values"
   ]
  },
  {
   "cell_type": "code",
   "execution_count": 21,
   "id": "b5a63a0e",
   "metadata": {},
   "outputs": [
    {
     "data": {
      "text/plain": [
       "[2, 'baba ammar', False]"
      ]
     },
     "execution_count": 21,
     "metadata": {},
     "output_type": "execute_result"
    }
   ],
   "source": [
    "list1 = [2, 'baba ammar', False]\n",
    "list1"
   ]
  },
  {
   "cell_type": "code",
   "execution_count": 22,
   "id": "e32a51c3",
   "metadata": {},
   "outputs": [
    {
     "data": {
      "text/plain": [
       "list"
      ]
     },
     "execution_count": 22,
     "metadata": {},
     "output_type": "execute_result"
    }
   ],
   "source": [
    "# type of list\n",
    "type(list1)"
   ]
  },
  {
   "cell_type": "code",
   "execution_count": 23,
   "id": "9af96b2b",
   "metadata": {},
   "outputs": [
    {
     "data": {
      "text/plain": [
       "3"
      ]
     },
     "execution_count": 23,
     "metadata": {},
     "output_type": "execute_result"
    }
   ],
   "source": [
    "len(list1)"
   ]
  },
  {
   "cell_type": "code",
   "execution_count": 31,
   "id": "b1d4b7b0",
   "metadata": {},
   "outputs": [
    {
     "data": {
      "text/plain": [
       "False"
      ]
     },
     "execution_count": 31,
     "metadata": {},
     "output_type": "execute_result"
    }
   ],
   "source": [
    "list1[2]"
   ]
  },
  {
   "cell_type": "code",
   "execution_count": 37,
   "id": "4acb8b1f",
   "metadata": {},
   "outputs": [
    {
     "data": {
      "text/plain": [
       "[30, 'shery=h', False, 49.3, 43, 1]"
      ]
     },
     "execution_count": 37,
     "metadata": {},
     "output_type": "execute_result"
    }
   ],
   "source": [
    "list2 = [30, \"shery=h\", False, 49.3, 43, 1]\n",
    "list2"
   ]
  },
  {
   "cell_type": "code",
   "execution_count": 33,
   "id": "a7a8b13e",
   "metadata": {},
   "outputs": [
    {
     "data": {
      "text/plain": [
       "[2, 'baba ammar', False, 30, 'shery==i24uh', False, 49.3, 43, 1]"
      ]
     },
     "execution_count": 33,
     "metadata": {},
     "output_type": "execute_result"
    }
   ],
   "source": [
    "list1 + list2"
   ]
  },
  {
   "cell_type": "code",
   "execution_count": 34,
   "id": "c0a5b561",
   "metadata": {},
   "outputs": [
    {
     "data": {
      "text/plain": [
       "[2, 'baba ammar', False, 2, 'baba ammar', False]"
      ]
     },
     "execution_count": 34,
     "metadata": {},
     "output_type": "execute_result"
    }
   ],
   "source": [
    "list1*2"
   ]
  },
  {
   "cell_type": "code",
   "execution_count": 38,
   "id": "fecef744",
   "metadata": {},
   "outputs": [
    {
     "data": {
      "text/plain": [
       "[2,\n",
       " 'baba ammar',\n",
       " False,\n",
       " 2,\n",
       " 'baba ammar',\n",
       " False,\n",
       " 30,\n",
       " 'shery=h',\n",
       " False,\n",
       " 49.3,\n",
       " 43,\n",
       " 1]"
      ]
     },
     "execution_count": 38,
     "metadata": {},
     "output_type": "execute_result"
    }
   ],
   "source": [
    "list1*2 + list2"
   ]
  },
  {
   "cell_type": "code",
   "execution_count": 41,
   "id": "d8750256",
   "metadata": {},
   "outputs": [
    {
     "data": {
      "text/plain": [
       "[False, 'baba ammar', 2]"
      ]
     },
     "execution_count": 41,
     "metadata": {},
     "output_type": "execute_result"
    }
   ],
   "source": [
    "list1.reverse()\n",
    "list1"
   ]
  },
  {
   "cell_type": "code",
   "execution_count": 46,
   "id": "a51e3808",
   "metadata": {},
   "outputs": [
    {
     "data": {
      "text/plain": [
       "[False,\n",
       " 'baba ammar',\n",
       " 2,\n",
       " 'sher;y is learning python',\n",
       " 'sher;y is learning python',\n",
       " 'sher;y is learning python',\n",
       " 'sher;y is learning python']"
      ]
     },
     "execution_count": 46,
     "metadata": {},
     "output_type": "execute_result"
    }
   ],
   "source": [
    "## append function for adding something in the list\n",
    "list1.append(\"sher;y is learning python\")\n",
    "list1"
   ]
  },
  {
   "cell_type": "code",
   "execution_count": 48,
   "id": "90c69953",
   "metadata": {},
   "outputs": [
    {
     "data": {
      "text/plain": [
       "[]"
      ]
     },
     "execution_count": 48,
     "metadata": {},
     "output_type": "execute_result"
    }
   ],
   "source": [
    "## clear list elements\n",
    "list1.clear()\n",
    "list1"
   ]
  },
  {
   "cell_type": "code",
   "execution_count": 50,
   "id": "7291eff7",
   "metadata": {},
   "outputs": [
    {
     "data": {
      "text/plain": [
       "[20, 30, 49, 55, 43, 800, 880, 343, 23]"
      ]
     },
     "execution_count": 50,
     "metadata": {},
     "output_type": "execute_result"
    }
   ],
   "source": [
    "list3 = [20, 30, 49, 55, 43, 800, 880, 343, 23]\n",
    "list3"
   ]
  },
  {
   "cell_type": "code",
   "execution_count": 51,
   "id": "0f23d53f",
   "metadata": {},
   "outputs": [
    {
     "data": {
      "text/plain": [
       "[20, 23, 30, 43, 49, 55, 343, 800, 880]"
      ]
     },
     "execution_count": 51,
     "metadata": {},
     "output_type": "execute_result"
    }
   ],
   "source": [
    "# sorting a list\n",
    "list3.sort()\n",
    "list3"
   ]
  },
  {
   "cell_type": "code",
   "execution_count": 52,
   "id": "946d7904",
   "metadata": {},
   "outputs": [
    {
     "data": {
      "text/plain": [
       "[20, 23, 30, 43, 49, 55, 343, 800, 880, 20, 23, 30, 43, 49, 55, 343, 800, 880]"
      ]
     },
     "execution_count": 52,
     "metadata": {},
     "output_type": "execute_result"
    }
   ],
   "source": [
    "list3*2"
   ]
  },
  {
   "cell_type": "code",
   "execution_count": 53,
   "id": "56ce99c9",
   "metadata": {},
   "outputs": [
    {
     "data": {
      "text/plain": [
       "[30, 'shery=h', False, 49.3, 43, 1, 20, 23, 30, 43, 49, 55, 343, 800, 880]"
      ]
     },
     "execution_count": 53,
     "metadata": {},
     "output_type": "execute_result"
    }
   ],
   "source": [
    "list2 + list3"
   ]
  },
  {
   "cell_type": "markdown",
   "id": "204e7c63",
   "metadata": {},
   "source": [
    "## 3- Dictionaries\n",
    "- An unordered collection of elements\n",
    "- key and value\n",
    "- curly braces or brackets {}\n",
    "- Mutateable/ change the values"
   ]
  },
  {
   "cell_type": "code",
   "execution_count": 57,
   "id": "c5674353",
   "metadata": {},
   "outputs": [
    {
     "data": {
      "text/plain": [
       "{'Samosa': 30, 'Pakora': 100, 'Salad': 50, 'Chiken rolls': 30, 'Raita': 20}"
      ]
     },
     "execution_count": 57,
     "metadata": {},
     "output_type": "execute_result"
    }
   ],
   "source": [
    "# Food and their prices\n",
    "food1 = {\"Samosa\":30, \"Pakora\":100, \"Salad\": 50, \"Chiken rolls\":30, \"Raita\":20}\n",
    "food1"
   ]
  },
  {
   "cell_type": "code",
   "execution_count": 58,
   "id": "0f10cfbb",
   "metadata": {},
   "outputs": [
    {
     "data": {
      "text/plain": [
       "dict"
      ]
     },
     "execution_count": 58,
     "metadata": {},
     "output_type": "execute_result"
    }
   ],
   "source": [
    "type(food1)\n",
    "dict"
   ]
  },
  {
   "cell_type": "code",
   "execution_count": 62,
   "id": "7848caed",
   "metadata": {},
   "outputs": [
    {
     "data": {
      "text/plain": [
       "dict_keys(['Samosa', 'Pakora', 'Salad', 'Chiken rolls', 'Raita'])"
      ]
     },
     "execution_count": 62,
     "metadata": {},
     "output_type": "execute_result"
    }
   ],
   "source": [
    "# extract data\n",
    "keys1 = food1.keys()\n",
    "keys1"
   ]
  },
  {
   "cell_type": "code",
   "execution_count": 63,
   "id": "369d8023",
   "metadata": {},
   "outputs": [
    {
     "data": {
      "text/plain": [
       "dict_values([30, 100, 50, 30, 20])"
      ]
     },
     "execution_count": 63,
     "metadata": {},
     "output_type": "execute_result"
    }
   ],
   "source": [
    "values1 = food1.values()\n",
    "values1"
   ]
  },
  {
   "cell_type": "code",
   "execution_count": 65,
   "id": "8d30ecee",
   "metadata": {},
   "outputs": [
    {
     "data": {
      "text/plain": [
       "{'Samosa': 30,\n",
       " 'Pakora': 100,\n",
       " 'Salad': 50,\n",
       " 'Chiken rolls': 30,\n",
       " 'Raita': 20,\n",
       " 'Tikki': 10}"
      ]
     },
     "execution_count": 65,
     "metadata": {},
     "output_type": "execute_result"
    }
   ],
   "source": [
    "## adding new element\n",
    "food1[\"Tikki\"]=10\n",
    "food1"
   ]
  },
  {
   "cell_type": "code",
   "execution_count": 66,
   "id": "a497e146",
   "metadata": {},
   "outputs": [
    {
     "data": {
      "text/plain": [
       "{'Samosa': 30,\n",
       " 'Pakora': 100,\n",
       " 'Salad': 50,\n",
       " 'Chiken rolls': 30,\n",
       " 'Raita': 20,\n",
       " 'Tikki': 15}"
      ]
     },
     "execution_count": 66,
     "metadata": {},
     "output_type": "execute_result"
    }
   ],
   "source": [
    "# update the values\n",
    "food1[\"Tikki\"]= 15\n",
    "food1"
   ]
  },
  {
   "cell_type": "code",
   "execution_count": 67,
   "id": "b8767dd6",
   "metadata": {},
   "outputs": [
    {
     "data": {
      "text/plain": [
       "{'Dates': 50, 'Choclates': 300, 'Siwaiyan': 100}"
      ]
     },
     "execution_count": 67,
     "metadata": {},
     "output_type": "execute_result"
    }
   ],
   "source": [
    "food2 = {\"Dates\":50, \"Choclates\":300, \"Siwaiyan\":100}\n",
    "food2"
   ]
  },
  {
   "cell_type": "code",
   "execution_count": 69,
   "id": "18c4ce38",
   "metadata": {},
   "outputs": [
    {
     "data": {
      "text/plain": [
       "{'Samosa': 30,\n",
       " 'Pakora': 100,\n",
       " 'Salad': 50,\n",
       " 'Chiken rolls': 30,\n",
       " 'Raita': 20,\n",
       " 'Tikki': 15,\n",
       " 'Dates': 50,\n",
       " 'Choclates': 300,\n",
       " 'Siwaiyan': 100}"
      ]
     },
     "execution_count": 69,
     "metadata": {},
     "output_type": "execute_result"
    }
   ],
   "source": [
    "# Concatinate\n",
    "food1.update(food2)\n",
    "food1"
   ]
  },
  {
   "cell_type": "markdown",
   "id": "698e2f89",
   "metadata": {},
   "source": [
    "## 4- Set\n",
    "- unordered and unindexed\n",
    "- curly braces are used\n",
    "- No duplicates are allowed"
   ]
  },
  {
   "cell_type": "code",
   "execution_count": 70,
   "id": "5cdafdcb",
   "metadata": {},
   "outputs": [
    {
     "data": {
      "text/plain": [
       "{1, 2.2, 3, 5.5, 'Codanics', 'Karachi', 'Shery'}"
      ]
     },
     "execution_count": 70,
     "metadata": {},
     "output_type": "execute_result"
    }
   ],
   "source": [
    "# bolean operators can't be used\n",
    "\n",
    "s1= {1, 2.2, 3, 5.5, \"Shery\", \"Codanics\", \"Karachi\", True}\n",
    "s1"
   ]
  },
  {
   "cell_type": "code",
   "execution_count": 72,
   "id": "b6f871a0",
   "metadata": {},
   "outputs": [
    {
     "data": {
      "text/plain": [
       "{1, 2.2, 3, 5.5, 'Codanics', 'Karachi', 'Shery', 'Shery1'}"
      ]
     },
     "execution_count": 72,
     "metadata": {},
     "output_type": "execute_result"
    }
   ],
   "source": [
    "s1.add(\"Shery1\")\n",
    "s1"
   ]
  },
  {
   "cell_type": "code",
   "execution_count": 73,
   "id": "229ae944",
   "metadata": {},
   "outputs": [
    {
     "data": {
      "text/plain": [
       "{1, 4, 4.5, 45, 5, 69, 'Code running', 'Shery12'}"
      ]
     },
     "execution_count": 73,
     "metadata": {},
     "output_type": "execute_result"
    }
   ],
   "source": [
    "s2 = {1, 4, 5, 45, 69, \"Shery12\", \"Code running\", 4.5}\n",
    "s2"
   ]
  },
  {
   "cell_type": "code",
   "execution_count": 79,
   "id": "35123804",
   "metadata": {},
   "outputs": [
    {
     "data": {
      "text/plain": [
       "{1, 4, 4.5, 45, 5, 69, 'Code running', 'Shery12'}"
      ]
     },
     "execution_count": 79,
     "metadata": {},
     "output_type": "execute_result"
    }
   ],
   "source": [
    "# How to use copy function in set\n",
    "s1 = s2.copy()\n",
    "s1"
   ]
  },
  {
   "cell_type": "code",
   "execution_count": null,
   "id": "f124f1b9",
   "metadata": {},
   "outputs": [],
   "source": []
  },
  {
   "cell_type": "code",
   "execution_count": null,
   "id": "2ebfde78",
   "metadata": {},
   "outputs": [],
   "source": []
  },
  {
   "cell_type": "code",
   "execution_count": null,
   "id": "600d7eaa",
   "metadata": {},
   "outputs": [],
   "source": []
  },
  {
   "cell_type": "code",
   "execution_count": null,
   "id": "09a1d50b",
   "metadata": {},
   "outputs": [],
   "source": []
  },
  {
   "cell_type": "code",
   "execution_count": null,
   "id": "36834d9f",
   "metadata": {},
   "outputs": [],
   "source": []
  },
  {
   "cell_type": "code",
   "execution_count": null,
   "id": "47781029",
   "metadata": {},
   "outputs": [],
   "source": []
  },
  {
   "cell_type": "code",
   "execution_count": null,
   "id": "f8e6e236",
   "metadata": {},
   "outputs": [],
   "source": []
  },
  {
   "cell_type": "code",
   "execution_count": null,
   "id": "da3280c4",
   "metadata": {},
   "outputs": [],
   "source": []
  }
 ],
 "metadata": {
  "kernelspec": {
   "display_name": "Python 3 (ipykernel)",
   "language": "python",
   "name": "python3"
  },
  "language_info": {
   "codemirror_mode": {
    "name": "ipython",
    "version": 3
   },
   "file_extension": ".py",
   "mimetype": "text/x-python",
   "name": "python",
   "nbconvert_exporter": "python",
   "pygments_lexer": "ipython3",
   "version": "3.9.13"
  }
 },
 "nbformat": 4,
 "nbformat_minor": 5
}
