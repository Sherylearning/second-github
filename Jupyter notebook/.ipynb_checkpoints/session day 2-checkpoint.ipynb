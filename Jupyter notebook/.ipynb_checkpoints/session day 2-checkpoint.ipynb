{
 "cells": [
  {
   "cell_type": "code",
   "execution_count": null,
   "id": "cdb47b47",
   "metadata": {},
   "outputs": [],
   "source": [
    "# calculate BMI \n",
    "# input weight, height, name"
   ]
  },
  {
   "cell_type": "code",
   "execution_count": 1,
   "id": "17170bf8",
   "metadata": {},
   "outputs": [
    {
     "name": "stdout",
     "output_type": "stream",
     "text": [
      "what is your weight? 92\n"
     ]
    }
   ],
   "source": [
    "weight = input(\"what is your weight? \")"
   ]
  },
  {
   "cell_type": "code",
   "execution_count": 2,
   "id": "26dd3ab7",
   "metadata": {},
   "outputs": [
    {
     "data": {
      "text/plain": [
       "str"
      ]
     },
     "execution_count": 2,
     "metadata": {},
     "output_type": "execute_result"
    }
   ],
   "source": [
    "type(weight)"
   ]
  },
  {
   "cell_type": "code",
   "execution_count": 3,
   "id": "e698a3b4",
   "metadata": {},
   "outputs": [
    {
     "name": "stdout",
     "output_type": "stream",
     "text": [
      "what is your height? 1.81\n"
     ]
    }
   ],
   "source": [
    "height = input(\"what is your height? \")"
   ]
  },
  {
   "cell_type": "code",
   "execution_count": 4,
   "id": "a5aeffad",
   "metadata": {},
   "outputs": [
    {
     "name": "stdout",
     "output_type": "stream",
     "text": [
      "what is your name? Sheharyar\n"
     ]
    }
   ],
   "source": [
    "name = input(\"what is your name? \")"
   ]
  },
  {
   "cell_type": "code",
   "execution_count": 7,
   "id": "a3469830",
   "metadata": {},
   "outputs": [
    {
     "data": {
      "text/plain": [
       "float"
      ]
     },
     "execution_count": 7,
     "metadata": {},
     "output_type": "execute_result"
    }
   ],
   "source": [
    "# Type conversion\n",
    "weight = float(weight)\n",
    "height = float(height)\n",
    "type(weight)"
   ]
  },
  {
   "cell_type": "code",
   "execution_count": 6,
   "id": "3206fcf9",
   "metadata": {},
   "outputs": [
    {
     "data": {
      "text/plain": [
       "float"
      ]
     },
     "execution_count": 6,
     "metadata": {},
     "output_type": "execute_result"
    }
   ],
   "source": [
    "type(height)"
   ]
  },
  {
   "cell_type": "code",
   "execution_count": 9,
   "id": "60a33a20",
   "metadata": {},
   "outputs": [
    {
     "data": {
      "text/plain": [
       "28.082170873904946"
      ]
     },
     "execution_count": 9,
     "metadata": {},
     "output_type": "execute_result"
    }
   ],
   "source": [
    "# Calculate BMI\n",
    "# Weight in KG\n",
    "# Height in m\n",
    "# BMI formula is weight/height then taking square\n",
    "\n",
    "BMI = weight/height**2\n",
    "BMI"
   ]
  },
  {
   "cell_type": "code",
   "execution_count": 12,
   "id": "42d459f1",
   "metadata": {},
   "outputs": [
    {
     "name": "stdout",
     "output_type": "stream",
     "text": [
      "My name is  Sheharyar and my BMI is  28.082170873904946\n"
     ]
    }
   ],
   "source": [
    "print(\"My name is \", name, \"and my BMI is \", BMI)"
   ]
  },
  {
   "cell_type": "code",
   "execution_count": null,
   "id": "16b87c16",
   "metadata": {},
   "outputs": [],
   "source": []
  }
 ],
 "metadata": {
  "kernelspec": {
   "display_name": "Python 3 (ipykernel)",
   "language": "python",
   "name": "python3"
  },
  "language_info": {
   "codemirror_mode": {
    "name": "ipython",
    "version": 3
   },
   "file_extension": ".py",
   "mimetype": "text/x-python",
   "name": "python",
   "nbconvert_exporter": "python",
   "pygments_lexer": "ipython3",
   "version": "3.9.13"
  }
 },
 "nbformat": 4,
 "nbformat_minor": 5
}
